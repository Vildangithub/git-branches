{
 "cells": [
  {
   "cell_type": "code",
   "execution_count": null,
   "id": "f1c6bb88-d6d7-4e62-8df9-9f9984c6e571",
   "metadata": {},
   "outputs": [],
   "source": [
    "'''\n",
    "Напишите программу, которая считывает с клавиатуры два числа a и b, считает и выводит на консоль среднее арифметическое всех чисел из отрезка [a;b], которые кратны числу 3.\n",
    "В приведенном ниже примере среднее арифметическое считается для чисел на отрезке [−5;12]. Всего чисел, делящихся на 3, на этом отрезке 6: −3,0,3,6,9,12. Их среднее арифметическое равно 4.5\n",
    "На вход программе подаются интервалы, внутри которых всегда есть хотя бы одно число, которое делится на 3.\n",
    "'''\n",
    "# put your python code here\n",
    "a = int(input())\n",
    "b = int(input())\n",
    "x = 0 #Здесь будет накапливаться сумма\n",
    "y = 0 #Здесь будет накапливаться количество слагаемых\n",
    "for i in range (a, b + 1):\n",
    "    if i % 3 == 0:\n",
    "        x += i\n",
    "        y += 1\n",
    "print (x / y)"
   ]
  },
  {
   "cell_type": "code",
   "execution_count": null,
   "id": "ee1d97f4-4577-4ce5-b27f-8afb9e6b3ad1",
   "metadata": {},
   "outputs": [],
   "source": []
  }
 ],
 "metadata": {
  "kernelspec": {
   "display_name": "Python 3 (ipykernel)",
   "language": "python",
   "name": "python3"
  },
  "language_info": {
   "codemirror_mode": {
    "name": "ipython",
    "version": 3
   },
   "file_extension": ".py",
   "mimetype": "text/x-python",
   "name": "python",
   "nbconvert_exporter": "python",
   "pygments_lexer": "ipython3",
   "version": "3.12.1"
  }
 },
 "nbformat": 4,
 "nbformat_minor": 5
}
